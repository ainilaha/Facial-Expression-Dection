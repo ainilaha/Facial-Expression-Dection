{
 "cells": [
  {
   "cell_type": "markdown",
   "metadata": {},
   "source": [
    "# Basic Model"
   ]
  },
  {
   "cell_type": "markdown",
   "metadata": {},
   "source": [
    "## Prepare training data"
   ]
  },
  {
   "cell_type": "code",
   "execution_count": 105,
   "metadata": {},
   "outputs": [],
   "source": [
    "import pandas as pd\n",
    "import sys,os\n",
    "%matplotlib inline\n",
    "import matplotlib\n",
    "import matplotlib.pyplot as plt\n",
    "import numpy as np"
   ]
  },
  {
   "cell_type": "code",
   "execution_count": 2,
   "metadata": {},
   "outputs": [
    {
     "name": "stderr",
     "output_type": "stream",
     "text": [
      "Using TensorFlow backend.\n"
     ]
    }
   ],
   "source": [
    "from keras.preprocessing.image import ImageDataGenerator, array_to_img, img_to_array, load_img"
   ]
  },
  {
   "cell_type": "code",
   "execution_count": 3,
   "metadata": {},
   "outputs": [],
   "source": [
    "image_path = \"D:/Projects/CK_plus/datasets/images\"\n",
    "label_path = \"D:/Projects/CK_plus/datasets/Emotion\"\n",
    "image_target_path = \"D:/Projects/CK_plus/datasets/target_images\"\n",
    "\n",
    "# image_path = \"/Users/lahaale/Downloads/Courses/AI/project/CK+/cohn-kanade-images\"\n",
    "# label_path = \"/Users/lahaale/Downloads/Courses/AI/project/CK+/Emotion\"\n",
    "# image_target_path = \"/Users/lahaale/Downloads/Courses/AI/project/CK+/images\""
   ]
  },
  {
   "cell_type": "code",
   "execution_count": 4,
   "metadata": {},
   "outputs": [
    {
     "data": {
      "text/html": [
       "<div>\n",
       "<style scoped>\n",
       "    .dataframe tbody tr th:only-of-type {\n",
       "        vertical-align: middle;\n",
       "    }\n",
       "\n",
       "    .dataframe tbody tr th {\n",
       "        vertical-align: top;\n",
       "    }\n",
       "\n",
       "    .dataframe thead th {\n",
       "        text-align: right;\n",
       "    }\n",
       "</style>\n",
       "<table border=\"1\" class=\"dataframe\">\n",
       "  <thead>\n",
       "    <tr style=\"text-align: right;\">\n",
       "      <th></th>\n",
       "      <th>img_id</th>\n",
       "      <th>em_id</th>\n",
       "      <th>emotion</th>\n",
       "      <th>img_num</th>\n",
       "    </tr>\n",
       "  </thead>\n",
       "  <tbody>\n",
       "    <tr>\n",
       "      <th>0</th>\n",
       "      <td>S005_001_00000006</td>\n",
       "      <td>S005_001_00000011</td>\n",
       "      <td>3</td>\n",
       "      <td>11</td>\n",
       "    </tr>\n",
       "    <tr>\n",
       "      <th>1</th>\n",
       "      <td>S005_001_00000007</td>\n",
       "      <td>S005_001_00000011</td>\n",
       "      <td>3</td>\n",
       "      <td>11</td>\n",
       "    </tr>\n",
       "    <tr>\n",
       "      <th>2</th>\n",
       "      <td>S005_001_00000008</td>\n",
       "      <td>S005_001_00000011</td>\n",
       "      <td>3</td>\n",
       "      <td>11</td>\n",
       "    </tr>\n",
       "    <tr>\n",
       "      <th>3</th>\n",
       "      <td>S005_001_00000009</td>\n",
       "      <td>S005_001_00000011</td>\n",
       "      <td>3</td>\n",
       "      <td>11</td>\n",
       "    </tr>\n",
       "    <tr>\n",
       "      <th>4</th>\n",
       "      <td>S005_001_00000010</td>\n",
       "      <td>S005_001_00000011</td>\n",
       "      <td>3</td>\n",
       "      <td>11</td>\n",
       "    </tr>\n",
       "  </tbody>\n",
       "</table>\n",
       "</div>"
      ],
      "text/plain": [
       "              img_id              em_id  emotion  img_num\n",
       "0  S005_001_00000006  S005_001_00000011        3       11\n",
       "1  S005_001_00000007  S005_001_00000011        3       11\n",
       "2  S005_001_00000008  S005_001_00000011        3       11\n",
       "3  S005_001_00000009  S005_001_00000011        3       11\n",
       "4  S005_001_00000010  S005_001_00000011        3       11"
      ]
     },
     "execution_count": 4,
     "metadata": {},
     "output_type": "execute_result"
    }
   ],
   "source": [
    "img_data = pd.read_csv(\"CSV/img_data.csv\")\n",
    "img_data = img_data[['img_id','em_id','emotion','img_num']]\n",
    "img_data.head()"
   ]
  },
  {
   "cell_type": "code",
   "execution_count": 5,
   "metadata": {},
   "outputs": [
    {
     "data": {
      "text/plain": [
       "{1: 'An', 2: 'Con', 3: 'Di', 4: 'Fe', 5: 'Ha', 6: 'Sa', 7: 'Sur'}"
      ]
     },
     "execution_count": 5,
     "metadata": {},
     "output_type": "execute_result"
    }
   ],
   "source": [
    "# Anger,Contempt, Disgust, Fear, Happy, Sadness and Surprise.\n",
    "emotions_dict = {1:\"An\",2:\"Con\",3:\"Di\",4:\"Fe\",5:\"Ha\",6:\"Sa\",7:\"Sur\"}\n",
    "emotions_dict"
   ]
  },
  {
   "cell_type": "code",
   "execution_count": 6,
   "metadata": {},
   "outputs": [
    {
     "data": {
      "text/html": [
       "<div>\n",
       "<style scoped>\n",
       "    .dataframe tbody tr th:only-of-type {\n",
       "        vertical-align: middle;\n",
       "    }\n",
       "\n",
       "    .dataframe tbody tr th {\n",
       "        vertical-align: top;\n",
       "    }\n",
       "\n",
       "    .dataframe thead th {\n",
       "        text-align: right;\n",
       "    }\n",
       "</style>\n",
       "<table border=\"1\" class=\"dataframe\">\n",
       "  <thead>\n",
       "    <tr style=\"text-align: right;\">\n",
       "      <th></th>\n",
       "      <th>img_id</th>\n",
       "      <th>em_id</th>\n",
       "      <th>emotion</th>\n",
       "      <th>img_num</th>\n",
       "    </tr>\n",
       "  </thead>\n",
       "  <tbody>\n",
       "    <tr>\n",
       "      <th>0</th>\n",
       "      <td>S005_001_00000006</td>\n",
       "      <td>S005_001_00000011</td>\n",
       "      <td>Di</td>\n",
       "      <td>11</td>\n",
       "    </tr>\n",
       "    <tr>\n",
       "      <th>1</th>\n",
       "      <td>S005_001_00000007</td>\n",
       "      <td>S005_001_00000011</td>\n",
       "      <td>Di</td>\n",
       "      <td>11</td>\n",
       "    </tr>\n",
       "    <tr>\n",
       "      <th>2</th>\n",
       "      <td>S005_001_00000008</td>\n",
       "      <td>S005_001_00000011</td>\n",
       "      <td>Di</td>\n",
       "      <td>11</td>\n",
       "    </tr>\n",
       "    <tr>\n",
       "      <th>3</th>\n",
       "      <td>S005_001_00000009</td>\n",
       "      <td>S005_001_00000011</td>\n",
       "      <td>Di</td>\n",
       "      <td>11</td>\n",
       "    </tr>\n",
       "    <tr>\n",
       "      <th>4</th>\n",
       "      <td>S005_001_00000010</td>\n",
       "      <td>S005_001_00000011</td>\n",
       "      <td>Di</td>\n",
       "      <td>11</td>\n",
       "    </tr>\n",
       "  </tbody>\n",
       "</table>\n",
       "</div>"
      ],
      "text/plain": [
       "              img_id              em_id emotion  img_num\n",
       "0  S005_001_00000006  S005_001_00000011      Di       11\n",
       "1  S005_001_00000007  S005_001_00000011      Di       11\n",
       "2  S005_001_00000008  S005_001_00000011      Di       11\n",
       "3  S005_001_00000009  S005_001_00000011      Di       11\n",
       "4  S005_001_00000010  S005_001_00000011      Di       11"
      ]
     },
     "execution_count": 6,
     "metadata": {},
     "output_type": "execute_result"
    }
   ],
   "source": [
    "img_data['emotion']=img_data.emotion.apply(lambda em:emotions_dict[em])\n",
    "img_data.head()"
   ]
  },
  {
   "cell_type": "code",
   "execution_count": 7,
   "metadata": {},
   "outputs": [
    {
     "data": {
      "text/html": [
       "<div>\n",
       "<style scoped>\n",
       "    .dataframe tbody tr th:only-of-type {\n",
       "        vertical-align: middle;\n",
       "    }\n",
       "\n",
       "    .dataframe tbody tr th {\n",
       "        vertical-align: top;\n",
       "    }\n",
       "\n",
       "    .dataframe thead th {\n",
       "        text-align: right;\n",
       "    }\n",
       "</style>\n",
       "<table border=\"1\" class=\"dataframe\">\n",
       "  <thead>\n",
       "    <tr style=\"text-align: right;\">\n",
       "      <th></th>\n",
       "      <th>img_id</th>\n",
       "      <th>em_id</th>\n",
       "      <th>emotion</th>\n",
       "      <th>img_num</th>\n",
       "      <th>name</th>\n",
       "    </tr>\n",
       "  </thead>\n",
       "  <tbody>\n",
       "    <tr>\n",
       "      <th>0</th>\n",
       "      <td>S005_001_00000006</td>\n",
       "      <td>S005_001_00000011</td>\n",
       "      <td>Di</td>\n",
       "      <td>11</td>\n",
       "      <td>S005_001_00000006.png</td>\n",
       "    </tr>\n",
       "    <tr>\n",
       "      <th>1</th>\n",
       "      <td>S005_001_00000007</td>\n",
       "      <td>S005_001_00000011</td>\n",
       "      <td>Di</td>\n",
       "      <td>11</td>\n",
       "      <td>S005_001_00000007.png</td>\n",
       "    </tr>\n",
       "    <tr>\n",
       "      <th>2</th>\n",
       "      <td>S005_001_00000008</td>\n",
       "      <td>S005_001_00000011</td>\n",
       "      <td>Di</td>\n",
       "      <td>11</td>\n",
       "      <td>S005_001_00000008.png</td>\n",
       "    </tr>\n",
       "    <tr>\n",
       "      <th>3</th>\n",
       "      <td>S005_001_00000009</td>\n",
       "      <td>S005_001_00000011</td>\n",
       "      <td>Di</td>\n",
       "      <td>11</td>\n",
       "      <td>S005_001_00000009.png</td>\n",
       "    </tr>\n",
       "    <tr>\n",
       "      <th>4</th>\n",
       "      <td>S005_001_00000010</td>\n",
       "      <td>S005_001_00000011</td>\n",
       "      <td>Di</td>\n",
       "      <td>11</td>\n",
       "      <td>S005_001_00000010.png</td>\n",
       "    </tr>\n",
       "  </tbody>\n",
       "</table>\n",
       "</div>"
      ],
      "text/plain": [
       "              img_id              em_id emotion  img_num  \\\n",
       "0  S005_001_00000006  S005_001_00000011      Di       11   \n",
       "1  S005_001_00000007  S005_001_00000011      Di       11   \n",
       "2  S005_001_00000008  S005_001_00000011      Di       11   \n",
       "3  S005_001_00000009  S005_001_00000011      Di       11   \n",
       "4  S005_001_00000010  S005_001_00000011      Di       11   \n",
       "\n",
       "                    name  \n",
       "0  S005_001_00000006.png  \n",
       "1  S005_001_00000007.png  \n",
       "2  S005_001_00000008.png  \n",
       "3  S005_001_00000009.png  \n",
       "4  S005_001_00000010.png  "
      ]
     },
     "execution_count": 7,
     "metadata": {},
     "output_type": "execute_result"
    }
   ],
   "source": [
    "\n",
    "img_data['name']=img_data.img_id.apply(lambda id: id+\".png\")\n",
    "img_data.head()"
   ]
  },
  {
   "cell_type": "code",
   "execution_count": 8,
   "metadata": {},
   "outputs": [],
   "source": [
    "train_index = np.random.rand(len(img_data)) < 0.8\n",
    "train_set = img_data[train_index].copy()\n",
    "val_set = img_data[~train_index].copy()"
   ]
  },
  {
   "cell_type": "code",
   "execution_count": 9,
   "metadata": {},
   "outputs": [
    {
     "name": "stdout",
     "output_type": "stream",
     "text": [
      "train_set_num= 3416\n",
      "test_set_num= 826\n",
      "total_set_num= 4242\n"
     ]
    }
   ],
   "source": [
    "print(\"train_set_num=\",len(train_set))\n",
    "print(\"test_set_num=\",len(val_set))\n",
    "print(\"total_set_num=\",len(img_data))"
   ]
  },
  {
   "cell_type": "code",
   "execution_count": 10,
   "metadata": {},
   "outputs": [],
   "source": [
    "train_gen = ImageDataGenerator()\n",
    "val_gen = ImageDataGenerator()"
   ]
  },
  {
   "cell_type": "code",
   "execution_count": 11,
   "metadata": {},
   "outputs": [
    {
     "data": {
      "text/html": [
       "<div>\n",
       "<style scoped>\n",
       "    .dataframe tbody tr th:only-of-type {\n",
       "        vertical-align: middle;\n",
       "    }\n",
       "\n",
       "    .dataframe tbody tr th {\n",
       "        vertical-align: top;\n",
       "    }\n",
       "\n",
       "    .dataframe thead th {\n",
       "        text-align: right;\n",
       "    }\n",
       "</style>\n",
       "<table border=\"1\" class=\"dataframe\">\n",
       "  <thead>\n",
       "    <tr style=\"text-align: right;\">\n",
       "      <th></th>\n",
       "      <th>img_id</th>\n",
       "      <th>em_id</th>\n",
       "      <th>emotion</th>\n",
       "      <th>img_num</th>\n",
       "      <th>name</th>\n",
       "    </tr>\n",
       "  </thead>\n",
       "  <tbody>\n",
       "    <tr>\n",
       "      <th>4</th>\n",
       "      <td>S005_001_00000010</td>\n",
       "      <td>S005_001_00000011</td>\n",
       "      <td>Di</td>\n",
       "      <td>11</td>\n",
       "      <td>S005_001_00000010.png</td>\n",
       "    </tr>\n",
       "    <tr>\n",
       "      <th>6</th>\n",
       "      <td>S010_002_00000006</td>\n",
       "      <td>S010_002_00000014</td>\n",
       "      <td>Sur</td>\n",
       "      <td>14</td>\n",
       "      <td>S010_002_00000006.png</td>\n",
       "    </tr>\n",
       "    <tr>\n",
       "      <th>10</th>\n",
       "      <td>S010_002_00000010</td>\n",
       "      <td>S010_002_00000014</td>\n",
       "      <td>Sur</td>\n",
       "      <td>14</td>\n",
       "      <td>S010_002_00000010.png</td>\n",
       "    </tr>\n",
       "    <tr>\n",
       "      <th>12</th>\n",
       "      <td>S010_002_00000012</td>\n",
       "      <td>S010_002_00000014</td>\n",
       "      <td>Sur</td>\n",
       "      <td>14</td>\n",
       "      <td>S010_002_00000012.png</td>\n",
       "    </tr>\n",
       "    <tr>\n",
       "      <th>13</th>\n",
       "      <td>S010_002_00000013</td>\n",
       "      <td>S010_002_00000014</td>\n",
       "      <td>Sur</td>\n",
       "      <td>14</td>\n",
       "      <td>S010_002_00000013.png</td>\n",
       "    </tr>\n",
       "  </tbody>\n",
       "</table>\n",
       "</div>"
      ],
      "text/plain": [
       "               img_id              em_id emotion  img_num  \\\n",
       "4   S005_001_00000010  S005_001_00000011      Di       11   \n",
       "6   S010_002_00000006  S010_002_00000014     Sur       14   \n",
       "10  S010_002_00000010  S010_002_00000014     Sur       14   \n",
       "12  S010_002_00000012  S010_002_00000014     Sur       14   \n",
       "13  S010_002_00000013  S010_002_00000014     Sur       14   \n",
       "\n",
       "                     name  \n",
       "4   S005_001_00000010.png  \n",
       "6   S010_002_00000006.png  \n",
       "10  S010_002_00000010.png  \n",
       "12  S010_002_00000012.png  \n",
       "13  S010_002_00000013.png  "
      ]
     },
     "execution_count": 11,
     "metadata": {},
     "output_type": "execute_result"
    }
   ],
   "source": [
    "val_set.head()"
   ]
  },
  {
   "cell_type": "code",
   "execution_count": 38,
   "metadata": {},
   "outputs": [
    {
     "name": "stdout",
     "output_type": "stream",
     "text": [
      "Found 3416 images belonging to 7 classes.\n"
     ]
    }
   ],
   "source": [
    "batch_size=8\n",
    "train_generator =  train_gen.flow_from_dataframe(train_set,directory=image_target_path,x_col=\"name\",\n",
    "                              y_col=\"emotion\",target_size=(640,490),\n",
    "                              class_mode=\"categorical\",  \n",
    "                              batch_size=batch_size, shuffle=True)"
   ]
  },
  {
   "cell_type": "code",
   "execution_count": 38,
   "metadata": {},
   "outputs": [
    {
     "name": "stdout",
     "output_type": "stream",
     "text": [
      "[[0. 0. 0. 1. 0. 0. 0.]\n",
      " [1. 0. 0. 0. 0. 0. 0.]\n",
      " [0. 0. 0. 0. 0. 0. 1.]\n",
      " [0. 0. 0. 0. 1. 0. 0.]\n",
      " [1. 0. 0. 0. 0. 0. 0.]\n",
      " [0. 0. 0. 0. 0. 0. 1.]\n",
      " [1. 0. 0. 0. 0. 0. 0.]\n",
      " [0. 0. 0. 0. 0. 0. 1.]\n",
      " [0. 1. 0. 0. 0. 0. 0.]\n",
      " [0. 0. 0. 0. 0. 0. 1.]\n",
      " [1. 0. 0. 0. 0. 0. 0.]\n",
      " [0. 0. 1. 0. 0. 0. 0.]\n",
      " [0. 0. 0. 1. 0. 0. 0.]\n",
      " [0. 0. 0. 0. 1. 0. 0.]\n",
      " [0. 0. 0. 0. 0. 0. 1.]\n",
      " [0. 0. 0. 0. 1. 0. 0.]\n",
      " [0. 1. 0. 0. 0. 0. 0.]\n",
      " [0. 0. 0. 0. 1. 0. 0.]\n",
      " [0. 0. 0. 0. 1. 0. 0.]\n",
      " [0. 0. 0. 0. 1. 0. 0.]\n",
      " [0. 0. 1. 0. 0. 0. 0.]\n",
      " [0. 0. 0. 0. 0. 0. 1.]\n",
      " [0. 0. 1. 0. 0. 0. 0.]\n",
      " [1. 0. 0. 0. 0. 0. 0.]\n",
      " [0. 0. 0. 1. 0. 0. 0.]\n",
      " [1. 0. 0. 0. 0. 0. 0.]\n",
      " [0. 0. 0. 0. 0. 0. 1.]\n",
      " [0. 1. 0. 0. 0. 0. 0.]\n",
      " [0. 0. 0. 0. 1. 0. 0.]\n",
      " [0. 0. 0. 0. 0. 0. 1.]\n",
      " [0. 0. 0. 1. 0. 0. 0.]\n",
      " [0. 0. 1. 0. 0. 0. 0.]]\n"
     ]
    }
   ],
   "source": [
    "imge, label = train_generator.next()\n",
    "print(label)"
   ]
  },
  {
   "cell_type": "code",
   "execution_count": 39,
   "metadata": {},
   "outputs": [
    {
     "name": "stdout",
     "output_type": "stream",
     "text": [
      "Found 826 images belonging to 7 classes.\n"
     ]
    }
   ],
   "source": [
    "validation_generator = val_gen.flow_from_dataframe(val_set,directory=image_target_path,x_col=\"name\",\n",
    "                              y_col=\"emotion\",target_size=(640,490),\n",
    "                              batch_size=batch_size, shuffle=True,\n",
    "                              class_mode=\"categorical\",\n",
    "                              save_format='png')"
   ]
  },
  {
   "cell_type": "code",
   "execution_count": 40,
   "metadata": {},
   "outputs": [],
   "source": [
    "import keras\n",
    "from keras import applications\n",
    "\n",
    "vgg16 = applications.vgg16.VGG16(include_top=False,input_shape=(640, 490,3))"
   ]
  },
  {
   "cell_type": "code",
   "execution_count": 41,
   "metadata": {},
   "outputs": [
    {
     "name": "stdout",
     "output_type": "stream",
     "text": [
      "False\n",
      "False\n",
      "False\n",
      "False\n",
      "False\n",
      "False\n",
      "False\n",
      "False\n",
      "False\n",
      "False\n",
      "False\n",
      "False\n",
      "False\n",
      "False\n",
      "False\n",
      "False\n",
      "True\n",
      "True\n",
      "True\n"
     ]
    }
   ],
   "source": [
    "layer_num = len(vgg16.layers)\n",
    "for i in range(layer_num):\n",
    "    if i < layer_num-3:\n",
    "        vgg16.layers[i].trainable = False\n",
    "# for layer in vgg16.layers:\n",
    "#     print(layer.trainable)"
   ]
  },
  {
   "cell_type": "code",
   "execution_count": 42,
   "metadata": {},
   "outputs": [
    {
     "name": "stdout",
     "output_type": "stream",
     "text": [
      "_________________________________________________________________\n",
      "Layer (type)                 Output Shape              Param #   \n",
      "=================================================================\n",
      "input_2 (InputLayer)         (None, 640, 490, 3)       0         \n",
      "_________________________________________________________________\n",
      "block1_conv1 (Conv2D)        (None, 640, 490, 64)      1792      \n",
      "_________________________________________________________________\n",
      "block1_conv2 (Conv2D)        (None, 640, 490, 64)      36928     \n",
      "_________________________________________________________________\n",
      "block1_pool (MaxPooling2D)   (None, 320, 245, 64)      0         \n",
      "_________________________________________________________________\n",
      "block2_conv1 (Conv2D)        (None, 320, 245, 128)     73856     \n",
      "_________________________________________________________________\n",
      "block2_conv2 (Conv2D)        (None, 320, 245, 128)     147584    \n",
      "_________________________________________________________________\n",
      "block2_pool (MaxPooling2D)   (None, 160, 122, 128)     0         \n",
      "_________________________________________________________________\n",
      "block3_conv1 (Conv2D)        (None, 160, 122, 256)     295168    \n",
      "_________________________________________________________________\n",
      "block3_conv2 (Conv2D)        (None, 160, 122, 256)     590080    \n",
      "_________________________________________________________________\n",
      "block3_conv3 (Conv2D)        (None, 160, 122, 256)     590080    \n",
      "_________________________________________________________________\n",
      "block3_pool (MaxPooling2D)   (None, 80, 61, 256)       0         \n",
      "_________________________________________________________________\n",
      "block4_conv1 (Conv2D)        (None, 80, 61, 512)       1180160   \n",
      "_________________________________________________________________\n",
      "block4_conv2 (Conv2D)        (None, 80, 61, 512)       2359808   \n",
      "_________________________________________________________________\n",
      "block4_conv3 (Conv2D)        (None, 80, 61, 512)       2359808   \n",
      "_________________________________________________________________\n",
      "block4_pool (MaxPooling2D)   (None, 40, 30, 512)       0         \n",
      "_________________________________________________________________\n",
      "block5_conv1 (Conv2D)        (None, 40, 30, 512)       2359808   \n",
      "_________________________________________________________________\n",
      "block5_conv2 (Conv2D)        (None, 40, 30, 512)       2359808   \n",
      "_________________________________________________________________\n",
      "block5_conv3 (Conv2D)        (None, 40, 30, 512)       2359808   \n",
      "_________________________________________________________________\n",
      "block5_pool (MaxPooling2D)   (None, 20, 15, 512)       0         \n",
      "=================================================================\n",
      "Total params: 14,714,688\n",
      "Trainable params: 14,714,688\n",
      "Non-trainable params: 0\n",
      "_________________________________________________________________\n"
     ]
    }
   ],
   "source": [
    "# vgg16.layers.pop()\n",
    "vgg19.summary()"
   ]
  },
  {
   "cell_type": "code",
   "execution_count": 43,
   "metadata": {},
   "outputs": [],
   "source": [
    "from keras.models import Sequential\n",
    "from keras.layers import Conv2D, MaxPooling2D\n",
    "from keras.layers import Activation, Dropout, Flatten, Dense\n",
    "\n",
    "model = Sequential()\n",
    "model.add(vgg19)\n",
    "model.add(Dense(32, activation='relu'))\n",
    "model.add(Flatten())\n",
    "model.add(Dense(7, activation='softmax'))\n",
    "\n",
    "model.compile(loss='categorical_crossentropy',\n",
    "              optimizer='adam',\n",
    "              metrics=['categorical_accuracy'])"
   ]
  },
  {
   "cell_type": "code",
   "execution_count": 44,
   "metadata": {},
   "outputs": [
    {
     "name": "stdout",
     "output_type": "stream",
     "text": [
      "_________________________________________________________________\n",
      "Layer (type)                 Output Shape              Param #   \n",
      "=================================================================\n",
      "vgg16 (Model)                (None, 20, 15, 512)       14714688  \n",
      "_________________________________________________________________\n",
      "dense_9 (Dense)              (None, 20, 15, 32)        16416     \n",
      "_________________________________________________________________\n",
      "flatten_2 (Flatten)          (None, 9600)              0         \n",
      "_________________________________________________________________\n",
      "dense_10 (Dense)             (None, 7)                 67207     \n",
      "=================================================================\n",
      "Total params: 14,798,311\n",
      "Trainable params: 14,798,311\n",
      "Non-trainable params: 0\n",
      "_________________________________________________________________\n"
     ]
    }
   ],
   "source": [
    "model.summary()"
   ]
  },
  {
   "cell_type": "code",
   "execution_count": 45,
   "metadata": {
    "scrolled": true
   },
   "outputs": [
    {
     "name": "stdout",
     "output_type": "stream",
     "text": [
      "Epoch 1/5\n",
      "25/25 [==============================] - 567s 23s/step - loss: 13.2498 - categorical_accuracy: 0.1700 - val_loss: 13.8155 - val_categorical_accuracy: 0.1429\n",
      "Epoch 2/5\n",
      "25/25 [==============================] - 570s 23s/step - loss: 12.1692 - categorical_accuracy: 0.2450 - val_loss: 13.2399 - val_categorical_accuracy: 0.1786\n",
      "Epoch 3/5\n",
      "25/25 [==============================] - 569s 23s/step - loss: 12.8139 - categorical_accuracy: 0.2050 - val_loss: 12.6642 - val_categorical_accuracy: 0.2143\n",
      "Epoch 4/5\n",
      "25/25 [==============================] - 568s 23s/step - loss: 12.0886 - categorical_accuracy: 0.2500 - val_loss: 13.5277 - val_categorical_accuracy: 0.1607\n",
      "Epoch 5/5\n",
      "25/25 [==============================] - 568s 23s/step - loss: 12.4915 - categorical_accuracy: 0.2250 - val_loss: 13.2399 - val_categorical_accuracy: 0.1786\n"
     ]
    },
    {
     "data": {
      "text/plain": [
       "<keras.callbacks.History at 0x23c8ef9bb70>"
      ]
     },
     "execution_count": 45,
     "metadata": {},
     "output_type": "execute_result"
    }
   ],
   "source": [
    "model.fit_generator(\n",
    "        generator=train_generator,\n",
    "        steps_per_epoch=200//batch_size,\n",
    "        epochs=5,\n",
    "        validation_data=validation_generator,\n",
    "        validation_steps=62//batch_size\n",
    ")\n"
   ]
  },
  {
   "cell_type": "code",
   "execution_count": 46,
   "metadata": {},
   "outputs": [],
   "source": [
    "history = model.history"
   ]
  },
  {
   "cell_type": "code",
   "execution_count": 48,
   "metadata": {},
   "outputs": [
    {
     "data": {
      "text/plain": [
       "{'val_loss': [13.81551034109933,\n",
       "  13.239864076886859,\n",
       "  12.664217812674385,\n",
       "  13.527687208993095,\n",
       "  13.239864076886859],\n",
       " 'val_categorical_accuracy': [0.14285714285714285,\n",
       "  0.17857142857142858,\n",
       "  0.21428571428571427,\n",
       "  0.16071428571428573,\n",
       "  0.17857142857142858],\n",
       " 'loss': [13.249813995361329,\n",
       "  12.16916202545166,\n",
       "  12.813885841369629,\n",
       "  12.088571548461914,\n",
       "  12.491523933410644],\n",
       " 'categorical_accuracy': [0.17, 0.245, 0.205, 0.25, 0.225]}"
      ]
     },
     "execution_count": 48,
     "metadata": {},
     "output_type": "execute_result"
    }
   ],
   "source": [
    "history.history"
   ]
  },
  {
   "cell_type": "code",
   "execution_count": 50,
   "metadata": {},
   "outputs": [
    {
     "data": {
      "image/png": "[encoded data removed]",
      "text/plain": [
       "<Figure size 432x288 with 1 Axes>"
      ]
     },
     "metadata": {
      "needs_background": "light"
     },
     "output_type": "display_data"
    }
   ],
   "source": [
    "plt.plot(history.history['categorical_accuracy'])\n",
    "plt.plot(history.history['val_categorical_accuracy'])\n",
    "plt.title('model accuracy')\n",
    "plt.ylabel('accuracy')\n",
    "plt.xlabel('epoch')\n",
    "plt.legend(['train', 'validation'], loc='upper left')\n",
    "plt.show()"
   ]
  },
  {
   "cell_type": "code",
   "execution_count": 51,
   "metadata": {},
   "outputs": [
    {
     "data": {
      "image/png": "[encoded data removed]",
      "text/plain": [
       "<Figure size 432x288 with 1 Axes>"
      ]
     },
     "metadata": {
      "needs_background": "light"
     },
     "output_type": "display_data"
    }
   ],
   "source": [
    "plt.plot(history.history['loss'])\n",
    "plt.plot(history.history['val_loss'])\n",
    "plt.title('loss')\n",
    "plt.ylabel('accuracy')\n",
    "plt.xlabel('epoch')\n",
    "plt.legend(['train', 'validation'], loc='upper left')\n",
    "plt.show()"
   ]
  },
  {
   "cell_type": "code",
   "execution_count": 53,
   "metadata": {},
   "outputs": [],
   "source": [
    "from sklearn.metrics import confusion_matrix"
   ]
  },
  {
   "cell_type": "code",
   "execution_count": 55,
   "metadata": {},
   "outputs": [
    {
     "name": "stdout",
     "output_type": "stream",
     "text": [
      "<bound method Sequential.predict_classes of <keras.engine.sequential.Sequential object at 0x0000023C8F1CDBA8>>\n"
     ]
    }
   ],
   "source": [
    "print(model.predict_classes)"
   ]
  },
  {
   "cell_type": "code",
   "execution_count": 67,
   "metadata": {},
   "outputs": [
    {
     "name": "stdout",
     "output_type": "stream",
     "text": [
      "Found 403 images belonging to 7 classes.\n"
     ]
    }
   ],
   "source": [
    "test_index = np.random.rand(len(val_set)) < 0.5\n",
    "test_set = val_set[test_index].copy()\n",
    "test_generator =  train_gen.flow_from_dataframe(test_set,directory=image_target_path,x_col=\"name\",\n",
    "                              y_col=\"emotion\",target_size=(640,490),\n",
    "                              class_mode=\"categorical\",  \n",
    "                              batch_size=batch_size, shuffle=True)"
   ]
  },
  {
   "cell_type": "code",
   "execution_count": 90,
   "metadata": {},
   "outputs": [
    {
     "name": "stdout",
     "output_type": "stream",
     "text": [
      "[[0. 0. 0. 1. 0. 0. 0.]\n",
      " [0. 0. 0. 0. 0. 0. 1.]\n",
      " [0. 0. 0. 0. 1. 0. 0.]\n",
      " [0. 1. 0. 0. 0. 0. 0.]\n",
      " [0. 0. 0. 1. 0. 0. 0.]\n",
      " [0. 0. 0. 0. 0. 0. 1.]\n",
      " [0. 0. 0. 1. 0. 0. 0.]\n",
      " [0. 0. 0. 1. 0. 0. 0.]]\n"
     ]
    }
   ],
   "source": [
    "test_label = []\n",
    "for i in range(1):\n",
    "    image, label = next(test_generator)\n",
    "    print(label)\n",
    "    "
   ]
  },
  {
   "cell_type": "code",
   "execution_count": 103,
   "metadata": {},
   "outputs": [],
   "source": [
    "prediction = model.predict_generator(test_generator,steps=len(test_set)/batch_size,verbose=0)"
   ]
  },
  {
   "cell_type": "code",
   "execution_count": 107,
   "metadata": {},
   "outputs": [
    {
     "data": {
      "text/plain": [
       "{'An': 0, 'Con': 1, 'Di': 2, 'Fe': 3, 'Ha': 4, 'Sa': 5, 'Sur': 6}"
      ]
     },
     "execution_count": 107,
     "metadata": {},
     "output_type": "execute_result"
    }
   ],
   "source": [
    "test_generator.class_indices"
   ]
  },
  {
   "cell_type": "code",
   "execution_count": 113,
   "metadata": {},
   "outputs": [],
   "source": [
    "# y_true = np.array(test_generator.classes) + 1\n",
    "# y_true_label = []\n",
    "# for i in y_true:\n",
    "#     y_true_label.append(emotions_dict[i])\n",
    "# y_pred = np.argmax(prediction,axis=1)\n",
    "# y_pred = y_pred+1\n",
    "# y_pred_label = []\n",
    "# for i in y_pred:\n",
    "#     y_pred_label.append(emotions_dict[i])\n"
   ]
  },
  {
   "cell_type": "code",
   "execution_count": 118,
   "metadata": {},
   "outputs": [
    {
     "name": "stdout",
     "output_type": "stream",
     "text": [
      "Confusion Matrix\n",
      "[[ 0  0  0  0 72  0  0]\n",
      " [ 0  0  0  0 20  0  0]\n",
      " [ 0  0  0  0 56  0  0]\n",
      " [ 0  0  0  0 36  0  0]\n",
      " [ 0  0  0  0 81  0  0]\n",
      " [ 0  0  0  0 42  0  0]\n",
      " [ 0  0  0  0 96  0  0]]\n"
     ]
    }
   ],
   "source": [
    "y_pred = np.argmax(prediction,axis=1)\n",
    "print('Confusion Matrix')\n",
    "print(confusion_matrix(test_generator.classes, y_pred))"
   ]
  },
  {
   "cell_type": "code",
   "execution_count": null,
   "metadata": {},
   "outputs": [],
   "source": []
  }
 ],
 "metadata": {
  "kernelspec": {
   "display_name": "Python 3",
   "language": "python",
   "name": "python3"
  },
  "language_info": {
   "codemirror_mode": {
    "name": "ipython",
    "version": 3
   },
   "file_extension": ".py",
   "mimetype": "text/x-python",
   "name": "python",
   "nbconvert_exporter": "python",
   "pygments_lexer": "ipython3",
   "version": "3.7.1"
  }
 },
 "nbformat": 4,
 "nbformat_minor": 2
}
