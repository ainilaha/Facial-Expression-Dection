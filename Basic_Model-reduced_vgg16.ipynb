{
 "cells": [
  {
   "cell_type": "markdown",
   "metadata": {},
   "source": [
    "# Basic Model"
   ]
  },
  {
   "cell_type": "markdown",
   "metadata": {},
   "source": [
    "## Prepare training data"
   ]
  },
  {
   "cell_type": "code",
   "execution_count": 1,
   "metadata": {},
   "outputs": [],
   "source": [
    "import pandas as pd\n",
    "import sys,os\n",
    "%matplotlib inline\n",
    "import matplotlib\n",
    "import matplotlib.pyplot as plt\n",
    "import numpy as np"
   ]
  },
  {
   "cell_type": "code",
   "execution_count": 2,
   "metadata": {},
   "outputs": [],
   "source": [
    "import tensorflow as tf"
   ]
  },
  {
   "cell_type": "code",
   "execution_count": 3,
   "metadata": {},
   "outputs": [
    {
     "name": "stderr",
     "output_type": "stream",
     "text": [
      "Using TensorFlow backend.\n"
     ]
    }
   ],
   "source": [
    "from keras.preprocessing.image import ImageDataGenerator, array_to_img, img_to_array, load_img"
   ]
  },
  {
   "cell_type": "code",
   "execution_count": 4,
   "metadata": {},
   "outputs": [],
   "source": [
    "image_path = \"D:/Projects/CK_plus/datasets/images\"\n",
    "label_path = \"D:/Projects/CK_plus/datasets/Emotion\"\n",
    "image_target_path = \"D:/Projects/CK_plus/datasets/target_images\"\n",
    "\n",
    "# image_path = \"/Users/lahaale/Downloads/Courses/AI/project/CK+/cohn-kanade-images\"\n",
    "# label_path = \"/Users/lahaale/Downloads/Courses/AI/project/CK+/Emotion\"\n",
    "# image_target_path = \"/Users/lahaale/Downloads/Courses/AI/project/CK+/images\""
   ]
  },
  {
   "cell_type": "code",
   "execution_count": 5,
   "metadata": {},
   "outputs": [
    {
     "data": {
      "text/html": [
       "<div>\n",
       "<style scoped>\n",
       "    .dataframe tbody tr th:only-of-type {\n",
       "        vertical-align: middle;\n",
       "    }\n",
       "\n",
       "    .dataframe tbody tr th {\n",
       "        vertical-align: top;\n",
       "    }\n",
       "\n",
       "    .dataframe thead th {\n",
       "        text-align: right;\n",
       "    }\n",
       "</style>\n",
       "<table border=\"1\" class=\"dataframe\">\n",
       "  <thead>\n",
       "    <tr style=\"text-align: right;\">\n",
       "      <th></th>\n",
       "      <th>img_id</th>\n",
       "      <th>em_id</th>\n",
       "      <th>emotion</th>\n",
       "      <th>img_num</th>\n",
       "    </tr>\n",
       "  </thead>\n",
       "  <tbody>\n",
       "    <tr>\n",
       "      <th>0</th>\n",
       "      <td>S005_001_00000007</td>\n",
       "      <td>S005_001_00000011</td>\n",
       "      <td>3</td>\n",
       "      <td>11</td>\n",
       "    </tr>\n",
       "    <tr>\n",
       "      <th>1</th>\n",
       "      <td>S005_001_00000008</td>\n",
       "      <td>S005_001_00000011</td>\n",
       "      <td>3</td>\n",
       "      <td>11</td>\n",
       "    </tr>\n",
       "    <tr>\n",
       "      <th>2</th>\n",
       "      <td>S005_001_00000009</td>\n",
       "      <td>S005_001_00000011</td>\n",
       "      <td>3</td>\n",
       "      <td>11</td>\n",
       "    </tr>\n",
       "    <tr>\n",
       "      <th>3</th>\n",
       "      <td>S005_001_00000010</td>\n",
       "      <td>S005_001_00000011</td>\n",
       "      <td>3</td>\n",
       "      <td>11</td>\n",
       "    </tr>\n",
       "    <tr>\n",
       "      <th>4</th>\n",
       "      <td>S005_001_00000011</td>\n",
       "      <td>S005_001_00000011</td>\n",
       "      <td>3</td>\n",
       "      <td>11</td>\n",
       "    </tr>\n",
       "  </tbody>\n",
       "</table>\n",
       "</div>"
      ],
      "text/plain": [
       "              img_id              em_id  emotion  img_num\n",
       "0  S005_001_00000007  S005_001_00000011        3       11\n",
       "1  S005_001_00000008  S005_001_00000011        3       11\n",
       "2  S005_001_00000009  S005_001_00000011        3       11\n",
       "3  S005_001_00000010  S005_001_00000011        3       11\n",
       "4  S005_001_00000011  S005_001_00000011        3       11"
      ]
     },
     "execution_count": 5,
     "metadata": {},
     "output_type": "execute_result"
    }
   ],
   "source": [
    "img_data = pd.read_csv(\"CSV/img_data.csv\")\n",
    "img_data = img_data[['img_id','em_id','emotion','img_num']]\n",
    "img_data.head()"
   ]
  },
  {
   "cell_type": "code",
   "execution_count": 6,
   "metadata": {},
   "outputs": [
    {
     "data": {
      "text/plain": [
       "{1: 'An', 2: 'Con', 3: 'Di', 4: 'Fe', 5: 'Ha', 6: 'Sa', 7: 'Sur'}"
      ]
     },
     "execution_count": 6,
     "metadata": {},
     "output_type": "execute_result"
    }
   ],
   "source": [
    "# Anger,Contempt, Disgust, Fear, Happy, Sadness and Surprise.\n",
    "emotions_dict = {1:\"An\",2:\"Con\",3:\"Di\",4:\"Fe\",5:\"Ha\",6:\"Sa\",7:\"Sur\"}\n",
    "emotions_dict"
   ]
  },
  {
   "cell_type": "code",
   "execution_count": 7,
   "metadata": {},
   "outputs": [
    {
     "data": {
      "text/html": [
       "<div>\n",
       "<style scoped>\n",
       "    .dataframe tbody tr th:only-of-type {\n",
       "        vertical-align: middle;\n",
       "    }\n",
       "\n",
       "    .dataframe tbody tr th {\n",
       "        vertical-align: top;\n",
       "    }\n",
       "\n",
       "    .dataframe thead th {\n",
       "        text-align: right;\n",
       "    }\n",
       "</style>\n",
       "<table border=\"1\" class=\"dataframe\">\n",
       "  <thead>\n",
       "    <tr style=\"text-align: right;\">\n",
       "      <th></th>\n",
       "      <th>img_id</th>\n",
       "      <th>em_id</th>\n",
       "      <th>emotion</th>\n",
       "      <th>img_num</th>\n",
       "    </tr>\n",
       "  </thead>\n",
       "  <tbody>\n",
       "    <tr>\n",
       "      <th>0</th>\n",
       "      <td>S005_001_00000007</td>\n",
       "      <td>S005_001_00000011</td>\n",
       "      <td>Di</td>\n",
       "      <td>11</td>\n",
       "    </tr>\n",
       "    <tr>\n",
       "      <th>1</th>\n",
       "      <td>S005_001_00000008</td>\n",
       "      <td>S005_001_00000011</td>\n",
       "      <td>Di</td>\n",
       "      <td>11</td>\n",
       "    </tr>\n",
       "    <tr>\n",
       "      <th>2</th>\n",
       "      <td>S005_001_00000009</td>\n",
       "      <td>S005_001_00000011</td>\n",
       "      <td>Di</td>\n",
       "      <td>11</td>\n",
       "    </tr>\n",
       "    <tr>\n",
       "      <th>3</th>\n",
       "      <td>S005_001_00000010</td>\n",
       "      <td>S005_001_00000011</td>\n",
       "      <td>Di</td>\n",
       "      <td>11</td>\n",
       "    </tr>\n",
       "    <tr>\n",
       "      <th>4</th>\n",
       "      <td>S005_001_00000011</td>\n",
       "      <td>S005_001_00000011</td>\n",
       "      <td>Di</td>\n",
       "      <td>11</td>\n",
       "    </tr>\n",
       "  </tbody>\n",
       "</table>\n",
       "</div>"
      ],
      "text/plain": [
       "              img_id              em_id emotion  img_num\n",
       "0  S005_001_00000007  S005_001_00000011      Di       11\n",
       "1  S005_001_00000008  S005_001_00000011      Di       11\n",
       "2  S005_001_00000009  S005_001_00000011      Di       11\n",
       "3  S005_001_00000010  S005_001_00000011      Di       11\n",
       "4  S005_001_00000011  S005_001_00000011      Di       11"
      ]
     },
     "execution_count": 7,
     "metadata": {},
     "output_type": "execute_result"
    }
   ],
   "source": [
    "img_data['emotion']=img_data.emotion.apply(lambda em:emotions_dict[em])\n",
    "img_data.head()"
   ]
  },
  {
   "cell_type": "code",
   "execution_count": 8,
   "metadata": {},
   "outputs": [
    {
     "data": {
      "text/plain": [
       "<matplotlib.axes._subplots.AxesSubplot at 0x1c3f4bd8cc0>"
      ]
     },
     "execution_count": 8,
     "metadata": {},
     "output_type": "execute_result"
    },
    {
     "data": {
      "image/png": "[encoded data removed]",
      "text/plain": [
       "<Figure size 432x288 with 1 Axes>"
      ]
     },
     "metadata": {
      "needs_background": "light"
     },
     "output_type": "display_data"
    }
   ],
   "source": [
    "img_data.emotion.value_counts().plot(kind=\"bar\")"
   ]
  },
  {
   "cell_type": "code",
   "execution_count": 9,
   "metadata": {},
   "outputs": [
    {
     "data": {
      "text/plain": [
       "<matplotlib.axes._subplots.AxesSubplot at 0x1c3f6cb04a8>"
      ]
     },
     "execution_count": 9,
     "metadata": {},
     "output_type": "execute_result"
    },
    {
     "data": {
      "image/png": "[encoded data removed]",
      "text/plain": [
       "<Figure size 432x288 with 1 Axes>"
      ]
     },
     "metadata": {
      "needs_background": "light"
     },
     "output_type": "display_data"
    }
   ],
   "source": [
    "img_data = img_data[~img_data.emotion.isin(['Sa','Fe','Con'])]\n",
    "img_data.emotion.value_counts().plot(kind=\"bar\")"
   ]
  },
  {
   "cell_type": "code",
   "execution_count": 10,
   "metadata": {},
   "outputs": [
    {
     "data": {
      "text/html": [
       "<div>\n",
       "<style scoped>\n",
       "    .dataframe tbody tr th:only-of-type {\n",
       "        vertical-align: middle;\n",
       "    }\n",
       "\n",
       "    .dataframe tbody tr th {\n",
       "        vertical-align: top;\n",
       "    }\n",
       "\n",
       "    .dataframe thead th {\n",
       "        text-align: right;\n",
       "    }\n",
       "</style>\n",
       "<table border=\"1\" class=\"dataframe\">\n",
       "  <thead>\n",
       "    <tr style=\"text-align: right;\">\n",
       "      <th></th>\n",
       "      <th>img_id</th>\n",
       "      <th>em_id</th>\n",
       "      <th>emotion</th>\n",
       "      <th>img_num</th>\n",
       "      <th>name</th>\n",
       "    </tr>\n",
       "  </thead>\n",
       "  <tbody>\n",
       "    <tr>\n",
       "      <th>0</th>\n",
       "      <td>S005_001_00000007</td>\n",
       "      <td>S005_001_00000011</td>\n",
       "      <td>Di</td>\n",
       "      <td>11</td>\n",
       "      <td>S005_001_00000007.png</td>\n",
       "    </tr>\n",
       "    <tr>\n",
       "      <th>1</th>\n",
       "      <td>S005_001_00000008</td>\n",
       "      <td>S005_001_00000011</td>\n",
       "      <td>Di</td>\n",
       "      <td>11</td>\n",
       "      <td>S005_001_00000008.png</td>\n",
       "    </tr>\n",
       "    <tr>\n",
       "      <th>2</th>\n",
       "      <td>S005_001_00000009</td>\n",
       "      <td>S005_001_00000011</td>\n",
       "      <td>Di</td>\n",
       "      <td>11</td>\n",
       "      <td>S005_001_00000009.png</td>\n",
       "    </tr>\n",
       "    <tr>\n",
       "      <th>3</th>\n",
       "      <td>S005_001_00000010</td>\n",
       "      <td>S005_001_00000011</td>\n",
       "      <td>Di</td>\n",
       "      <td>11</td>\n",
       "      <td>S005_001_00000010.png</td>\n",
       "    </tr>\n",
       "    <tr>\n",
       "      <th>4</th>\n",
       "      <td>S005_001_00000011</td>\n",
       "      <td>S005_001_00000011</td>\n",
       "      <td>Di</td>\n",
       "      <td>11</td>\n",
       "      <td>S005_001_00000011.png</td>\n",
       "    </tr>\n",
       "  </tbody>\n",
       "</table>\n",
       "</div>"
      ],
      "text/plain": [
       "              img_id              em_id emotion  img_num  \\\n",
       "0  S005_001_00000007  S005_001_00000011      Di       11   \n",
       "1  S005_001_00000008  S005_001_00000011      Di       11   \n",
       "2  S005_001_00000009  S005_001_00000011      Di       11   \n",
       "3  S005_001_00000010  S005_001_00000011      Di       11   \n",
       "4  S005_001_00000011  S005_001_00000011      Di       11   \n",
       "\n",
       "                    name  \n",
       "0  S005_001_00000007.png  \n",
       "1  S005_001_00000008.png  \n",
       "2  S005_001_00000009.png  \n",
       "3  S005_001_00000010.png  \n",
       "4  S005_001_00000011.png  "
      ]
     },
     "execution_count": 10,
     "metadata": {},
     "output_type": "execute_result"
    }
   ],
   "source": [
    "\n",
    "img_data['name']=img_data.img_id.apply(lambda id: id+\".png\")\n",
    "img_data.head()"
   ]
  },
  {
   "cell_type": "code",
   "execution_count": 11,
   "metadata": {},
   "outputs": [],
   "source": [
    "train_index = np.random.rand(len(img_data)) < 0.8\n",
    "train_set = img_data[train_index].copy()\n",
    "val_set = img_data[~train_index].copy()"
   ]
  },
  {
   "cell_type": "code",
   "execution_count": 12,
   "metadata": {},
   "outputs": [
    {
     "name": "stdout",
     "output_type": "stream",
     "text": [
      "train_set_num= 1031\n",
      "test_set_num= 249\n",
      "total_set_num= 1280\n"
     ]
    }
   ],
   "source": [
    "print(\"train_set_num=\",len(train_set))\n",
    "print(\"test_set_num=\",len(val_set))\n",
    "print(\"total_set_num=\",len(img_data))"
   ]
  },
  {
   "cell_type": "code",
   "execution_count": 13,
   "metadata": {},
   "outputs": [],
   "source": [
    "train_gen = ImageDataGenerator()\n",
    "val_gen = ImageDataGenerator()"
   ]
  },
  {
   "cell_type": "code",
   "execution_count": 14,
   "metadata": {},
   "outputs": [
    {
     "data": {
      "text/html": [
       "<div>\n",
       "<style scoped>\n",
       "    .dataframe tbody tr th:only-of-type {\n",
       "        vertical-align: middle;\n",
       "    }\n",
       "\n",
       "    .dataframe tbody tr th {\n",
       "        vertical-align: top;\n",
       "    }\n",
       "\n",
       "    .dataframe thead th {\n",
       "        text-align: right;\n",
       "    }\n",
       "</style>\n",
       "<table border=\"1\" class=\"dataframe\">\n",
       "  <thead>\n",
       "    <tr style=\"text-align: right;\">\n",
       "      <th></th>\n",
       "      <th>img_id</th>\n",
       "      <th>em_id</th>\n",
       "      <th>emotion</th>\n",
       "      <th>img_num</th>\n",
       "      <th>name</th>\n",
       "    </tr>\n",
       "  </thead>\n",
       "  <tbody>\n",
       "    <tr>\n",
       "      <th>5</th>\n",
       "      <td>S010_002_00000010</td>\n",
       "      <td>S010_002_00000014</td>\n",
       "      <td>Sur</td>\n",
       "      <td>14</td>\n",
       "      <td>S010_002_00000010.png</td>\n",
       "    </tr>\n",
       "    <tr>\n",
       "      <th>7</th>\n",
       "      <td>S010_002_00000012</td>\n",
       "      <td>S010_002_00000014</td>\n",
       "      <td>Sur</td>\n",
       "      <td>14</td>\n",
       "      <td>S010_002_00000012.png</td>\n",
       "    </tr>\n",
       "    <tr>\n",
       "      <th>11</th>\n",
       "      <td>S010_004_00000016</td>\n",
       "      <td>S010_004_00000019</td>\n",
       "      <td>An</td>\n",
       "      <td>19</td>\n",
       "      <td>S010_004_00000016.png</td>\n",
       "    </tr>\n",
       "    <tr>\n",
       "      <th>12</th>\n",
       "      <td>S010_004_00000017</td>\n",
       "      <td>S010_004_00000019</td>\n",
       "      <td>An</td>\n",
       "      <td>19</td>\n",
       "      <td>S010_004_00000017.png</td>\n",
       "    </tr>\n",
       "    <tr>\n",
       "      <th>14</th>\n",
       "      <td>S010_004_00000019</td>\n",
       "      <td>S010_004_00000019</td>\n",
       "      <td>An</td>\n",
       "      <td>19</td>\n",
       "      <td>S010_004_00000019.png</td>\n",
       "    </tr>\n",
       "  </tbody>\n",
       "</table>\n",
       "</div>"
      ],
      "text/plain": [
       "               img_id              em_id emotion  img_num  \\\n",
       "5   S010_002_00000010  S010_002_00000014     Sur       14   \n",
       "7   S010_002_00000012  S010_002_00000014     Sur       14   \n",
       "11  S010_004_00000016  S010_004_00000019      An       19   \n",
       "12  S010_004_00000017  S010_004_00000019      An       19   \n",
       "14  S010_004_00000019  S010_004_00000019      An       19   \n",
       "\n",
       "                     name  \n",
       "5   S010_002_00000010.png  \n",
       "7   S010_002_00000012.png  \n",
       "11  S010_004_00000016.png  \n",
       "12  S010_004_00000017.png  \n",
       "14  S010_004_00000019.png  "
      ]
     },
     "execution_count": 14,
     "metadata": {},
     "output_type": "execute_result"
    }
   ],
   "source": [
    "val_set.head()"
   ]
  },
  {
   "cell_type": "code",
   "execution_count": 15,
   "metadata": {},
   "outputs": [
    {
     "name": "stdout",
     "output_type": "stream",
     "text": [
      "Found 1009 images belonging to 4 classes.\n"
     ]
    }
   ],
   "source": [
    "batch_size=16\n",
    "width = 480\n",
    "hight = 480\n",
    "train_generator =  train_gen.flow_from_dataframe(train_set,directory=image_target_path,x_col=\"name\",\n",
    "                              y_col=\"emotion\",target_size=(width,hight),\n",
    "                              class_mode=\"categorical\",  \n",
    "                              batch_size=batch_size, shuffle=True,\n",
    "                                                 # data augmentation\n",
    "                                rotation_range=40,\n",
    "                                width_shift_range=0.2,\n",
    "                                height_shift_range=0.2,\n",
    "                                shear_range=0.2,\n",
    "                                zoom_range=0.2,\n",
    "                                horizontal_flip=True,\n",
    "                                fill_mode='nearest'\n",
    "                                                )\n"
   ]
  },
  {
   "cell_type": "code",
   "execution_count": 16,
   "metadata": {},
   "outputs": [
    {
     "name": "stdout",
     "output_type": "stream",
     "text": [
      "[[0. 0. 0. 1.]\n",
      " [1. 0. 0. 0.]\n",
      " [0. 0. 1. 0.]\n",
      " [0. 1. 0. 0.]\n",
      " [1. 0. 0. 0.]\n",
      " [0. 0. 1. 0.]\n",
      " [0. 1. 0. 0.]\n",
      " [0. 0. 0. 1.]\n",
      " [0. 0. 1. 0.]\n",
      " [0. 0. 1. 0.]\n",
      " [0. 0. 1. 0.]\n",
      " [0. 0. 0. 1.]\n",
      " [1. 0. 0. 0.]\n",
      " [0. 0. 1. 0.]\n",
      " [0. 0. 1. 0.]\n",
      " [0. 0. 0. 1.]]\n"
     ]
    }
   ],
   "source": [
    "imge, label = train_generator.next()\n",
    "print(label)"
   ]
  },
  {
   "cell_type": "code",
   "execution_count": 16,
   "metadata": {},
   "outputs": [
    {
     "name": "stdout",
     "output_type": "stream",
     "text": [
      "Found 245 images belonging to 4 classes.\n"
     ]
    }
   ],
   "source": [
    "validation_generator = val_gen.flow_from_dataframe(val_set,directory=image_target_path,x_col=\"name\",\n",
    "                              y_col=\"emotion\",target_size=(width,hight),\n",
    "                              batch_size=batch_size, shuffle=True,\n",
    "                              class_mode=\"categorical\",\n",
    "                              save_format='png')"
   ]
  },
  {
   "cell_type": "code",
   "execution_count": 23,
   "metadata": {},
   "outputs": [],
   "source": [
    "import keras\n",
    "from keras import applications\n",
    "\n",
    "vgg16 = applications.vgg16.VGG16(include_top=False,input_shape=(width,hight,3))\n"
   ]
  },
  {
   "cell_type": "code",
   "execution_count": 18,
   "metadata": {},
   "outputs": [
    {
     "name": "stdout",
     "output_type": "stream",
     "text": [
      "_________________________________________________________________\n",
      "Layer (type)                 Output Shape              Param #   \n",
      "=================================================================\n",
      "input_1 (InputLayer)         (None, 480, 480, 3)       0         \n",
      "_________________________________________________________________\n",
      "block1_conv1 (Conv2D)        (None, 480, 480, 64)      1792      \n",
      "_________________________________________________________________\n",
      "block1_conv2 (Conv2D)        (None, 480, 480, 64)      36928     \n",
      "_________________________________________________________________\n",
      "block1_pool (MaxPooling2D)   (None, 240, 240, 64)      0         \n",
      "_________________________________________________________________\n",
      "block2_conv1 (Conv2D)        (None, 240, 240, 128)     73856     \n",
      "_________________________________________________________________\n",
      "block2_conv2 (Conv2D)        (None, 240, 240, 128)     147584    \n",
      "_________________________________________________________________\n",
      "block2_pool (MaxPooling2D)   (None, 120, 120, 128)     0         \n",
      "_________________________________________________________________\n",
      "block3_conv1 (Conv2D)        (None, 120, 120, 256)     295168    \n",
      "_________________________________________________________________\n",
      "block3_conv2 (Conv2D)        (None, 120, 120, 256)     590080    \n",
      "_________________________________________________________________\n",
      "block3_conv3 (Conv2D)        (None, 120, 120, 256)     590080    \n",
      "_________________________________________________________________\n",
      "block3_pool (MaxPooling2D)   (None, 60, 60, 256)       0         \n",
      "_________________________________________________________________\n",
      "block4_conv1 (Conv2D)        (None, 60, 60, 512)       1180160   \n",
      "_________________________________________________________________\n",
      "block4_conv2 (Conv2D)        (None, 60, 60, 512)       2359808   \n",
      "_________________________________________________________________\n",
      "block4_conv3 (Conv2D)        (None, 60, 60, 512)       2359808   \n",
      "_________________________________________________________________\n",
      "block4_pool (MaxPooling2D)   (None, 30, 30, 512)       0         \n",
      "_________________________________________________________________\n",
      "block5_conv1 (Conv2D)        (None, 30, 30, 512)       2359808   \n",
      "_________________________________________________________________\n",
      "block5_conv2 (Conv2D)        (None, 30, 30, 512)       2359808   \n",
      "_________________________________________________________________\n",
      "block5_conv3 (Conv2D)        (None, 30, 30, 512)       2359808   \n",
      "_________________________________________________________________\n",
      "block5_pool (MaxPooling2D)   (None, 15, 15, 512)       0         \n",
      "=================================================================\n",
      "Total params: 14,714,688\n",
      "Trainable params: 14,714,688\n",
      "Non-trainable params: 0\n",
      "_________________________________________________________________\n"
     ]
    }
   ],
   "source": [
    "vgg16.summary()"
   ]
  },
  {
   "cell_type": "code",
   "execution_count": 25,
   "metadata": {},
   "outputs": [
    {
     "name": "stdout",
     "output_type": "stream",
     "text": [
      "False\n",
      "False\n",
      "False\n",
      "False\n",
      "False\n",
      "False\n",
      "False\n",
      "False\n",
      "False\n",
      "False\n",
      "False\n",
      "False\n",
      "True\n",
      "True\n",
      "True\n",
      "True\n",
      "True\n",
      "True\n",
      "True\n"
     ]
    }
   ],
   "source": [
    "layer_num = len(vgg16.layers)\n",
    "for i in range(layer_num):\n",
    "    if i < layer_num-7:\n",
    "        vgg16.layers[i].trainable = False\n",
    "\n",
    "for layer in vgg16.layers:\n",
    "    print(layer.trainable)"
   ]
  },
  {
   "cell_type": "code",
   "execution_count": 26,
   "metadata": {},
   "outputs": [],
   "source": [
    "from keras.models import Sequential\n",
    "from keras.layers import Conv2D, MaxPooling2D\n",
    "from keras.layers import Activation, Dropout, Flatten, Dense\n",
    "\n",
    "model = Sequential()\n",
    "model.add(vgg16)\n",
    "model.add(Dense(32, activation='relu'))\n",
    "model.add(Flatten())\n",
    "model.add(Dense(4, activation='softmax'))\n",
    "\n",
    "model.compile(loss='categorical_crossentropy',\n",
    "              optimizer='adam',\n",
    "              metrics=['categorical_accuracy'])"
   ]
  },
  {
   "cell_type": "code",
   "execution_count": 27,
   "metadata": {},
   "outputs": [
    {
     "name": "stdout",
     "output_type": "stream",
     "text": [
      "_________________________________________________________________\n",
      "Layer (type)                 Output Shape              Param #   \n",
      "=================================================================\n",
      "vgg16 (Model)                (None, 15, 15, 512)       14714688  \n",
      "_________________________________________________________________\n",
      "dense_3 (Dense)              (None, 15, 15, 32)        16416     \n",
      "_________________________________________________________________\n",
      "flatten_2 (Flatten)          (None, 7200)              0         \n",
      "_________________________________________________________________\n",
      "dense_4 (Dense)              (None, 4)                 28804     \n",
      "=================================================================\n",
      "Total params: 14,759,908\n",
      "Trainable params: 11,844,260\n",
      "Non-trainable params: 2,915,648\n",
      "_________________________________________________________________\n"
     ]
    }
   ],
   "source": [
    "model.summary()"
   ]
  },
  {
   "cell_type": "code",
   "execution_count": 28,
   "metadata": {
    "scrolled": true
   },
   "outputs": [
    {
     "name": "stdout",
     "output_type": "stream",
     "text": [
      "Epoch 1/20\n",
      "8/8 [==============================] - 159s 20s/step - loss: 12.2749 - categorical_accuracy: 0.1875 - val_loss: 13.0960 - val_categorical_accuracy: 0.1875\n",
      "Epoch 2/20\n",
      "8/8 [==============================] - 153s 19s/step - loss: 13.9774 - categorical_accuracy: 0.1328 - val_loss: 11.5564 - val_categorical_accuracy: 0.2830\n",
      "Epoch 3/20\n",
      "8/8 [==============================] - 160s 20s/step - loss: 13.0960 - categorical_accuracy: 0.1875 - val_loss: 14.3552 - val_categorical_accuracy: 0.1094\n",
      "Epoch 4/20\n",
      "8/8 [==============================] - 160s 20s/step - loss: 12.4663 - categorical_accuracy: 0.2266 - val_loss: 13.8515 - val_categorical_accuracy: 0.1406\n",
      "Epoch 5/20\n",
      "8/8 [==============================] - 160s 20s/step - loss: 13.5996 - categorical_accuracy: 0.1562 - val_loss: 12.8441 - val_categorical_accuracy: 0.2031\n",
      "Epoch 6/20\n",
      "8/8 [==============================] - 139s 17s/step - loss: 14.0736 - categorical_accuracy: 0.1268 - val_loss: 13.6852 - val_categorical_accuracy: 0.1509\n",
      "Epoch 7/20\n",
      "8/8 [==============================] - 160s 20s/step - loss: 12.8441 - categorical_accuracy: 0.2031 - val_loss: 13.0960 - val_categorical_accuracy: 0.1875\n",
      "Epoch 8/20\n",
      "8/8 [==============================] - 160s 20s/step - loss: 13.7256 - categorical_accuracy: 0.1484 - val_loss: 12.8441 - val_categorical_accuracy: 0.2031\n",
      "Epoch 9/20\n",
      "8/8 [==============================] - 160s 20s/step - loss: 13.8515 - categorical_accuracy: 0.1406 - val_loss: 13.3478 - val_categorical_accuracy: 0.1719\n",
      "Epoch 10/20\n",
      "8/8 [==============================] - 153s 19s/step - loss: 13.5996 - categorical_accuracy: 0.1562 - val_loss: 12.7728 - val_categorical_accuracy: 0.2075\n",
      "Epoch 11/20\n",
      "8/8 [==============================] - 163s 20s/step - loss: 12.9700 - categorical_accuracy: 0.1953 - val_loss: 12.3404 - val_categorical_accuracy: 0.2344\n",
      "Epoch 12/20\n",
      "8/8 [==============================] - 160s 20s/step - loss: 12.2145 - categorical_accuracy: 0.2422 - val_loss: 14.3552 - val_categorical_accuracy: 0.1094\n",
      "Epoch 13/20\n",
      "8/8 [==============================] - 160s 20s/step - loss: 13.5996 - categorical_accuracy: 0.1562 - val_loss: 13.8515 - val_categorical_accuracy: 0.1406\n",
      "Epoch 14/20\n",
      "8/8 [==============================] - 141s 18s/step - loss: 13.4347 - categorical_accuracy: 0.1665 - val_loss: 13.6852 - val_categorical_accuracy: 0.1509\n",
      "Epoch 15/20\n",
      "8/8 [==============================] - 214s 27s/step - loss: 13.4737 - categorical_accuracy: 0.1641 - val_loss: 13.8515 - val_categorical_accuracy: 0.1406\n",
      "Epoch 16/20\n",
      "8/8 [==============================] - 290s 36s/step - loss: 13.0960 - categorical_accuracy: 0.1875 - val_loss: 13.0960 - val_categorical_accuracy: 0.1875\n",
      "Epoch 17/20\n",
      "8/8 [==============================] - 179s 22s/step - loss: 12.8441 - categorical_accuracy: 0.2031 - val_loss: 12.5923 - val_categorical_accuracy: 0.2188\n",
      "Epoch 18/20\n",
      "8/8 [==============================] - 155s 19s/step - loss: 12.3404 - categorical_accuracy: 0.2344 - val_loss: 13.0769 - val_categorical_accuracy: 0.1887\n",
      "Epoch 19/20\n",
      "8/8 [==============================] - 162s 20s/step - loss: 12.8441 - categorical_accuracy: 0.2031 - val_loss: 12.8441 - val_categorical_accuracy: 0.2031\n",
      "Epoch 20/20\n",
      "8/8 [==============================] - 164s 20s/step - loss: 13.5996 - categorical_accuracy: 0.1562 - val_loss: 12.5923 - val_categorical_accuracy: 0.2188\n"
     ]
    },
    {
     "data": {
      "text/plain": [
       "<keras.callbacks.History at 0x1c3818c0668>"
      ]
     },
     "execution_count": 28,
     "metadata": {},
     "output_type": "execute_result"
    }
   ],
   "source": [
    "model.fit_generator(\n",
    "        generator=train_generator,\n",
    "        steps_per_epoch=128//batch_size,\n",
    "        epochs=20,\n",
    "        validation_data=validation_generator,\n",
    "        validation_steps=64//batch_size\n",
    ")\n"
   ]
  },
  {
   "cell_type": "code",
   "execution_count": 29,
   "metadata": {},
   "outputs": [],
   "source": [
    "history = model.history"
   ]
  },
  {
   "cell_type": "code",
   "execution_count": 30,
   "metadata": {},
   "outputs": [
    {
     "data": {
      "image/png": "[encoded data removed]",
      "text/plain": [
       "<Figure size 432x288 with 1 Axes>"
      ]
     },
     "metadata": {
      "needs_background": "light"
     },
     "output_type": "display_data"
    }
   ],
   "source": [
    "plt.plot(history.history['categorical_accuracy'])\n",
    "plt.plot(history.history['val_categorical_accuracy'])\n",
    "plt.title('model accuracy')\n",
    "plt.ylabel('accuracy')\n",
    "plt.xlabel('epoch')\n",
    "plt.legend(['train', 'validation'], loc='upper left')\n",
    "plt.show()"
   ]
  },
  {
   "cell_type": "code",
   "execution_count": 31,
   "metadata": {},
   "outputs": [
    {
     "data": {
      "image/png": "[encoded data removed]",
      "text/plain": [
       "<Figure size 432x288 with 1 Axes>"
      ]
     },
     "metadata": {
      "needs_background": "light"
     },
     "output_type": "display_data"
    }
   ],
   "source": [
    "plt.plot(history.history['loss'])\n",
    "plt.plot(history.history['val_loss'])\n",
    "plt.title('loss')\n",
    "plt.ylabel('accuracy')\n",
    "plt.xlabel('epoch')\n",
    "plt.legend(['train', 'validation'], loc='upper left')\n",
    "plt.show()"
   ]
  },
  {
   "cell_type": "code",
   "execution_count": 32,
   "metadata": {},
   "outputs": [],
   "source": [
    "from sklearn.metrics import confusion_matrix"
   ]
  },
  {
   "cell_type": "code",
   "execution_count": 33,
   "metadata": {},
   "outputs": [
    {
     "name": "stdout",
     "output_type": "stream",
     "text": [
      "<bound method Sequential.predict_classes of <keras.engine.sequential.Sequential object at 0x000001C382D83080>>\n"
     ]
    }
   ],
   "source": [
    "print(model.predict_classes)"
   ]
  },
  {
   "cell_type": "code",
   "execution_count": 50,
   "metadata": {},
   "outputs": [
    {
     "name": "stdout",
     "output_type": "stream",
     "text": [
      "Found 118 images belonging to 4 classes.\n"
     ]
    }
   ],
   "source": [
    "test_index = np.random.rand(len(val_set)) < 0.5\n",
    "test_set = val_set[test_index].copy()\n",
    "test_generator =  train_gen.flow_from_dataframe(test_set,directory=image_target_path,x_col=\"name\",\n",
    "                              y_col=\"emotion\",target_size=(width,hight),\n",
    "                              class_mode=\"categorical\",  \n",
    "                              batch_size=batch_size, shuffle=True)"
   ]
  },
  {
   "cell_type": "code",
   "execution_count": 51,
   "metadata": {},
   "outputs": [],
   "source": [
    "prediction = model.predict_generator(test_generator,steps=len(test_set)/batch_size,verbose=0)"
   ]
  },
  {
   "cell_type": "code",
   "execution_count": 52,
   "metadata": {},
   "outputs": [
    {
     "data": {
      "text/plain": [
       "{'An': 0, 'Di': 1, 'Ha': 2, 'Sur': 3}"
      ]
     },
     "execution_count": 52,
     "metadata": {},
     "output_type": "execute_result"
    }
   ],
   "source": [
    "test_generator.class_indices"
   ]
  },
  {
   "cell_type": "code",
   "execution_count": 53,
   "metadata": {},
   "outputs": [],
   "source": [
    "y_true = np.array(test_generator.classes) + 1\n",
    "y_true_label = []\n",
    "for i in y_true:\n",
    "    y_true_label.append(emotions_dict[i])\n",
    "y_pred = np.argmax(prediction,axis=1)\n",
    "y_pred = y_pred+1\n",
    "y_pred_label = []\n",
    "for i in y_pred:\n",
    "    y_pred_label.append(emotions_dict[i])\n"
   ]
  },
  {
   "cell_type": "code",
   "execution_count": 54,
   "metadata": {},
   "outputs": [
    {
     "data": {
      "text/plain": [
       "118"
      ]
     },
     "execution_count": 54,
     "metadata": {},
     "output_type": "execute_result"
    }
   ],
   "source": [
    "len(test_generator.classes)"
   ]
  },
  {
   "cell_type": "code",
   "execution_count": 55,
   "metadata": {},
   "outputs": [
    {
     "data": {
      "text/plain": [
       "118"
      ]
     },
     "execution_count": 55,
     "metadata": {},
     "output_type": "execute_result"
    }
   ],
   "source": [
    "len(y_pred)"
   ]
  },
  {
   "cell_type": "code",
   "execution_count": 56,
   "metadata": {},
   "outputs": [
    {
     "name": "stdout",
     "output_type": "stream",
     "text": [
      "Confusion Matrix\n",
      "[[21  0  0  0]\n",
      " [32  0  0  0]\n",
      " [26  0  0  0]\n",
      " [39  0  0  0]]\n"
     ]
    }
   ],
   "source": [
    "y_pred = np.argmax(prediction,axis=1)\n",
    "print('Confusion Matrix')\n",
    "print(confusion_matrix(test_generator.classes, y_pred))"
   ]
  },
  {
   "cell_type": "code",
   "execution_count": null,
   "metadata": {},
   "outputs": [],
   "source": []
  }
 ],
 "metadata": {
  "kernelspec": {
   "display_name": "Python 3",
   "language": "python",
   "name": "python3"
  },
  "language_info": {
   "codemirror_mode": {
    "name": "ipython",
    "version": 3
   },
   "file_extension": ".py",
   "mimetype": "text/x-python",
   "name": "python",
   "nbconvert_exporter": "python",
   "pygments_lexer": "ipython3",
   "version": "3.7.1"
  }
 },
 "nbformat": 4,
 "nbformat_minor": 2
}
